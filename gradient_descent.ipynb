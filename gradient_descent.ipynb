{
 "cells": [
  {
   "cell_type": "code",
   "execution_count": 5,
   "metadata": {},
   "outputs": [],
   "source": [
    "import numpy as np\n",
    "import matplotlib.pyplot as plt\n",
    "from ipywidgets import widgets"
   ]
  },
  {
   "cell_type": "code",
   "execution_count": 2,
   "metadata": {},
   "outputs": [],
   "source": [
    "def gradient_descent(grad, lr, initial_position):\n",
    "    N = 10\n",
    "    x = [initial_position]\n",
    "    for i in range(N):\n",
    "        if np.abs(x[-1]) > 5:\n",
    "            x = x[:-1]\n",
    "            break\n",
    "        x.append(x[-1] - lr*grad(x[-1]))\n",
    "    return np.array(x)\n",
    "\n",
    "def f(x):\n",
    "    return x**4 - 3*x**3 + x**2 + x + 1\n",
    "\n",
    "def grad_f(x):\n",
    "    return 4*x**3 - 9*x**2 + 2*x + 1\n",
    "\n",
    "def g(x):\n",
    "    return x**2\n",
    "\n",
    "def grad_g(x):\n",
    "    return 2*x"
   ]
  },
  {
   "cell_type": "code",
   "execution_count": 6,
   "metadata": {},
   "outputs": [
    {
     "data": {
      "application/vnd.jupyter.widget-view+json": {
       "model_id": "23101907d2cc40138063249855595e33",
       "version_major": 2,
       "version_minor": 0
      },
      "text/plain": [
       "FloatSlider(value=0.0, description='lr', max=1.5, step=0.001)"
      ]
     },
     "metadata": {},
     "output_type": "display_data"
    },
    {
     "data": {
      "application/vnd.jupyter.widget-view+json": {
       "model_id": "9a402c6d5a554d909e498e804fcf7563",
       "version_major": 2,
       "version_minor": 0
      },
      "text/plain": [
       "Output()"
      ]
     },
     "metadata": {},
     "output_type": "display_data"
    }
   ],
   "source": [
    "fig, ax = plt.subplots()\n",
    "slider = widgets.FloatSlider(value=0.0, min=0.0, max=1.5, step=0.001)\n",
    "output = widgets.Output(layour={'border': '1px solid black'})\n",
    "\n",
    "@output.capture(clear_output=True, wait=True)\n",
    "def on_value_change(lr):\n",
    "    xs = np.linspace(-4, 4, 200)\n",
    "    x_gd = gradient_descent(grad_g, lr, -2)\n",
    "    ax.clear()\n",
    "    ax.plot(xs, g(xs))\n",
    "    ax.plot(x_gd, g(x_gd), marker='o')\n",
    "    ax.set_xlim(-4, 4)\n",
    "    ax.set_ylim(-0.5, 16)\n",
    "    display(ax.figure)\n",
    "\n",
    "widgets.interactive(on_value_change, lr=slider)\n",
    "display(slider, output)\n",
    "plt.close()\n"
   ]
  },
  {
   "cell_type": "code",
   "execution_count": 7,
   "metadata": {},
   "outputs": [
    {
     "data": {
      "application/vnd.jupyter.widget-view+json": {
       "model_id": "f1d8fd92a41a4070a3b7e956a2a0f4fa",
       "version_major": 2,
       "version_minor": 0
      },
      "text/plain": [
       "FloatSlider(value=0.0, description='lr', max=0.17, step=0.001)"
      ]
     },
     "metadata": {},
     "output_type": "display_data"
    },
    {
     "data": {
      "application/vnd.jupyter.widget-view+json": {
       "model_id": "e9a4889b395348679a55f415c3d85012",
       "version_major": 2,
       "version_minor": 0
      },
      "text/plain": [
       "Output()"
      ]
     },
     "metadata": {},
     "output_type": "display_data"
    }
   ],
   "source": [
    "fig, ax = plt.subplots()\n",
    "slider = widgets.FloatSlider(value=0.0, min=0.0, max=0.17, step=0.001)\n",
    "output = widgets.Output(layour={'border': '1px solid black'})\n",
    "\n",
    "@output.capture(clear_output=True, wait=True)\n",
    "def on_value_change(lr):\n",
    "    xs = np.linspace(-4, 4, 200)\n",
    "    x_gd = gradient_descent(grad_g, lr, -2)\n",
    "    xs = np.linspace(-1.5, 3, 200)\n",
    "    x_gd = gradient_descent(grad_f, lr, -1.3)\n",
    "    ax.clear()\n",
    "    ax.plot(xs, f(xs))\n",
    "    ax.plot(x_gd, f(x_gd), marker='o')\n",
    "    ax.set_xlim(-2, 3)\n",
    "    ax.set_ylim(-2, 18)\n",
    "    display(ax.figure)\n",
    "\n",
    "widgets.interactive(on_value_change, lr=slider)\n",
    "display(slider, output)\n",
    "plt.close()"
   ]
  },
  {
   "cell_type": "code",
   "execution_count": null,
   "metadata": {},
   "outputs": [],
   "source": []
  }
 ],
 "metadata": {
  "kernelspec": {
   "display_name": "Python 3.8.13 ('py38_cpu')",
   "language": "python",
   "name": "python3"
  },
  "language_info": {
   "codemirror_mode": {
    "name": "ipython",
    "version": 3
   },
   "file_extension": ".py",
   "mimetype": "text/x-python",
   "name": "python",
   "nbconvert_exporter": "python",
   "pygments_lexer": "ipython3",
   "version": "3.8.13"
  },
  "orig_nbformat": 4,
  "vscode": {
   "interpreter": {
    "hash": "3f77be88fef21bd56b02cce025d83f11c84e8172a79bc0314f5a3959e99311d4"
   }
  }
 },
 "nbformat": 4,
 "nbformat_minor": 2
}
